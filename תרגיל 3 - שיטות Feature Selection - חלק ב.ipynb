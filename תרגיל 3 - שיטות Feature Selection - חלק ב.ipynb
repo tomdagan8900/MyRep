{
 "cells": [
  {
   "cell_type": "code",
   "execution_count": 28,
   "metadata": {},
   "outputs": [],
   "source": [
    "import pandas as pd\n",
    "import numpy as np\n",
    "import seaborn as sns\n",
    "import matplotlib.pyplot as plt\n",
    "from sklearn.feature_selection import SelectKBest,SelectPercentile, SelectFpr,SelectFdr,GenericUnivariateSelect,chi2,f_regression\n",
    "from sklearn.feature_selection import RFE\n",
    "from sklearn.metrics import f1_score\n",
    "from sklearn.ensemble import RandomForestClassifier\n",
    "from sklearn.model_selection import train_test_split\n",
    "from sklearn.metrics import mean_squared_error\n",
    "import warnings\n",
    "%matplotlib inline"
   ]
  },
  {
   "cell_type": "code",
   "execution_count": 29,
   "metadata": {},
   "outputs": [],
   "source": [
    "warnings.filterwarnings('ignore')"
   ]
  },
  {
   "cell_type": "code",
   "execution_count": 2,
   "metadata": {},
   "outputs": [],
   "source": [
    "p_num = 1\n",
    "original_df = pd.read_csv(r'C:\\Users\\james\\Documents\\Hishtalmut_Kamdan\\Targil 1 - Data Visualiztion\\My - Home Credit Default Risk.csv')\n",
    "original_df.drop(columns=['Unnamed: 0'], inplace=True)"
   ]
  },
  {
   "cell_type": "code",
   "execution_count": 3,
   "metadata": {},
   "outputs": [],
   "source": [
    "def get_object_column_names(df):\n",
    "    types_df = df.dtypes.reset_index()\n",
    "    cols_list = list(types_df['index'][types_df[0]=='object'])\n",
    "    return cols_list"
   ]
  },
  {
   "cell_type": "code",
   "execution_count": 5,
   "metadata": {},
   "outputs": [],
   "source": [
    "def preprocess_data(df):\n",
    "    # remove NAN values\n",
    "    df_preprocessed = df.fillna(method='ffill')\n",
    "    df_preprocessed[df_preprocessed['CNT_CHILDREN'].isnull()] = df_preprocessed[df_preprocessed['CNT_CHILDREN'].isnull()].fillna(0)\n",
    "    # remove lines with TARGET=2\n",
    "    target_2_index_list = list(df_preprocessed[df_preprocessed['TARGET']==2].index)\n",
    "    df_clean_target = df_preprocessed.drop(df_preprocessed.index[target_2_index_list])\n",
    "    # transform object types to int\n",
    "    df_dummies = df_clean_target.copy()\n",
    "    for col in get_object_column_names(df_dummies):\n",
    "        df_dummies = pd.concat([df_dummies.drop(col,axis=1), pd.get_dummies(df_dummies[col], prefix=col)], axis=1)\n",
    "    return df_dummies"
   ]
  },
  {
   "cell_type": "code",
   "execution_count": 6,
   "metadata": {},
   "outputs": [],
   "source": [
    "processed_data = preprocess_data(original_df)"
   ]
  },
  {
   "cell_type": "code",
   "execution_count": 8,
   "metadata": {},
   "outputs": [],
   "source": [
    "X = processed_data.drop('TARGET', axis=1)\n",
    "y = processed_data['TARGET']"
   ]
  },
  {
   "cell_type": "code",
   "execution_count": 11,
   "metadata": {},
   "outputs": [],
   "source": [
    "x_train, x_test, y_train, y_test = train_test_split(X, y, test_size=0.33, random_state=42)"
   ]
  },
  {
   "cell_type": "markdown",
   "metadata": {},
   "source": [
    "## Feature Selection - Wrapper Methods "
   ]
  },
  {
   "cell_type": "markdown",
   "metadata": {},
   "source": [
    "### Run model without feature selection"
   ]
  },
  {
   "cell_type": "code",
   "execution_count": 35,
   "metadata": {},
   "outputs": [
    {
     "name": "stdout",
     "output_type": "stream",
     "text": [
      "train score is: 1.0\n",
      "test score is: 0.6915750915750918\n"
     ]
    }
   ],
   "source": [
    "clf = RandomForestClassifier(n_estimators=500)\n",
    "\n",
    "clf_fit = clf.fit(x_train,y_train)\n",
    "y_pred_train = clf_fit.predict(x_train)\n",
    "y_pred_test = clf_fit.predict(x_test)\n",
    "\n",
    "print(\"train score is: \" + str(f1_score(y_train, y_pred_train, average='weighted')))\n",
    "print(\"test score is: \" + str(f1_score(y_test, y_pred_test, average='weighted')))"
   ]
  },
  {
   "cell_type": "markdown",
   "metadata": {},
   "source": [
    "### Recursive feature elimination"
   ]
  },
  {
   "cell_type": "code",
   "execution_count": 36,
   "metadata": {},
   "outputs": [
    {
     "name": "stdout",
     "output_type": "stream",
     "text": [
      "train score is: 1.0\n",
      "test score is: 0.6463215060229985\n"
     ]
    }
   ],
   "source": [
    "estimator = RandomForestClassifier(n_estimators=500)\n",
    "selector = RFE(estimator,n_features_to_select = 30, step=1)\n",
    "selector = selector.fit(x_train, y_train)\n",
    "y_pred_train = selector.predict(x_train)\n",
    "y_pred_test = selector.predict(x_test)\n",
    "                               \n",
    "print(\"train score is: \" + str(f1_score(y_train, y_pred_train, average='weighted')))\n",
    "print(\"test score is: \" + str(f1_score(y_test, y_pred_test, average='weighted')))"
   ]
  },
  {
   "cell_type": "code",
   "execution_count": null,
   "metadata": {},
   "outputs": [],
   "source": []
  }
 ],
 "metadata": {
  "kernelspec": {
   "display_name": "Python 3",
   "language": "python",
   "name": "python3"
  },
  "language_info": {
   "codemirror_mode": {
    "name": "ipython",
    "version": 3
   },
   "file_extension": ".py",
   "mimetype": "text/x-python",
   "name": "python",
   "nbconvert_exporter": "python",
   "pygments_lexer": "ipython3",
   "version": "3.7.1"
  }
 },
 "nbformat": 4,
 "nbformat_minor": 2
}
